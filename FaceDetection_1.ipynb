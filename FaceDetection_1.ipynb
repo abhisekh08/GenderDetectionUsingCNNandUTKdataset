{
 "cells": [
  {
   "cell_type": "code",
   "execution_count": 1,
   "metadata": {
    "colab": {
     "base_uri": "https://localhost:8080/",
     "height": 34
    },
    "colab_type": "code",
    "id": "0i0zz5LJx9rx",
    "outputId": "1598a72d-5660-4b04-c8f9-bea49098e63e"
   },
   "outputs": [
    {
     "name": "stdout",
     "output_type": "stream",
     "text": [
      "Drive already mounted at /content/drive; to attempt to forcibly remount, call drive.mount(\"/content/drive\", force_remount=True).\n"
     ]
    }
   ],
   "source": [
    "from google.colab import drive\n",
    "drive.mount(\"/content/drive\")"
   ]
  },
  {
   "cell_type": "code",
   "execution_count": 2,
   "metadata": {
    "colab": {
     "base_uri": "https://localhost:8080/",
     "height": 34
    },
    "colab_type": "code",
    "id": "Xd5U6BjiJt1E",
    "outputId": "6fa151f3-efd7-4121-d03c-fa7ed45f47b8"
   },
   "outputs": [
    {
     "name": "stderr",
     "output_type": "stream",
     "text": [
      "Using TensorFlow backend.\n"
     ]
    }
   ],
   "source": [
    "import os\n",
    "import pandas as pd\n",
    "import numpy as np\n",
    "import cv2\n",
    "\n",
    "from tensorflow.keras.preprocessing.image import img_to_array\n",
    "\n",
    "import keras\n",
    "from keras.utils import to_categorical \n",
    "from tensorflow.keras.utils import to_categorical, plot_model\n",
    "from tensorflow.keras.models import Sequential\n",
    "from tensorflow.keras.layers import BatchNormalization, Conv2D, MaxPooling2D, Activation, Flatten, Dropout, Dense\n",
    "\n",
    "\n",
    "\n",
    "\n",
    "import keras.backend as K\n"
   ]
  },
  {
   "cell_type": "markdown",
   "metadata": {
    "colab_type": "text",
    "id": "ULl2kj55adzZ"
   },
   "source": [
    "Preparing the dataset for the images"
   ]
  },
  {
   "cell_type": "code",
   "execution_count": 3,
   "metadata": {
    "colab": {
     "base_uri": "https://localhost:8080/",
     "height": 34
    },
    "colab_type": "code",
    "id": "Ew7hTOjGKN97",
    "outputId": "b1b83ed6-ca67-4b35-9af1-10d92a2265a7"
   },
   "outputs": [
    {
     "data": {
      "text/plain": [
       "9780"
      ]
     },
     "execution_count": 3,
     "metadata": {
      "tags": []
     },
     "output_type": "execute_result"
    }
   ],
   "source": [
    "# path /content/drive/My Drive/crop_part1\n",
    "\n",
    "file_names = os.listdir(\"/content/drive/My Drive/crop_part1\")\n",
    "len(file_names)"
   ]
  },
  {
   "cell_type": "code",
   "execution_count": 4,
   "metadata": {
    "colab": {},
    "colab_type": "code",
    "id": "mB6cktJxXSta"
   },
   "outputs": [],
   "source": [
    "# parameters\n",
    "inputshape = (100,100,3)\n",
    "epochs = 100\n",
    "batch_size = 64"
   ]
  },
  {
   "cell_type": "code",
   "execution_count": 5,
   "metadata": {
    "colab": {},
    "colab_type": "code",
    "id": "kH7NsoCnZ5aY"
   },
   "outputs": [],
   "source": [
    "pixels = []\n",
    "gender = []\n",
    "for i in file_names:\n",
    "\n",
    "  # format [age]_[gender]_[race]_[date&time].jpg\n",
    "  nameformat = (i.split(\"_\"))\n",
    "  imggender = nameformat[1]\n",
    "  if imggender == \"3\":  # to remove the invalid entry\n",
    "    continue\n",
    "  gender.append(imggender)\n",
    "\n",
    "  image = cv2.imread(os.path.join(\"/content/drive/My Drive/crop_part1\",i))\n",
    "  image = cv2.resize(image,(inputshape[0], inputshape[1]))\n",
    "  image = img_to_array(image)\n",
    "  pixels.append(image)\n",
    "\n"
   ]
  },
  {
   "cell_type": "code",
   "execution_count": 6,
   "metadata": {
    "colab": {
     "base_uri": "https://localhost:8080/",
     "height": 34
    },
    "colab_type": "code",
    "id": "BXBQb2i3qq-h",
    "outputId": "a98d8471-5008-44f0-9d29-6d2dca8bd55b"
   },
   "outputs": [
    {
     "data": {
      "text/plain": [
       "{'0', '1'}"
      ]
     },
     "execution_count": 6,
     "metadata": {
      "tags": []
     },
     "output_type": "execute_result"
    }
   ],
   "source": [
    "set(gender)"
   ]
  },
  {
   "cell_type": "code",
   "execution_count": 7,
   "metadata": {
    "colab": {},
    "colab_type": "code",
    "id": "CFaL1BLdmjCE"
   },
   "outputs": [],
   "source": [
    "pixels = np.array(pixels, dtype=\"float\") / 255.0\n",
    "gender = np.array(gender)\n",
    "\n",
    "gender = to_categorical(gender,num_classes=2)"
   ]
  },
  {
   "cell_type": "code",
   "execution_count": 8,
   "metadata": {
    "colab": {
     "base_uri": "https://localhost:8080/",
     "height": 34
    },
    "colab_type": "code",
    "id": "P0TsS34VpVGN",
    "outputId": "41c85c2f-ead2-4eba-fdee-9e29c139073d"
   },
   "outputs": [
    {
     "data": {
      "text/plain": [
       "((9779, 100, 100, 3), (9779, 2))"
      ]
     },
     "execution_count": 8,
     "metadata": {
      "tags": []
     },
     "output_type": "execute_result"
    }
   ],
   "source": [
    "pixels.shape , gender.shape"
   ]
  },
  {
   "cell_type": "code",
   "execution_count": 9,
   "metadata": {
    "colab": {},
    "colab_type": "code",
    "id": "hscH36W_xl3v"
   },
   "outputs": [],
   "source": [
    "# split the data for train and test\n",
    "from sklearn.model_selection import train_test_split\n",
    "(trainX, testX, trainY, testY) = train_test_split(pixels, gender, test_size=0.2,\n",
    "                                                  random_state=42)"
   ]
  },
  {
   "cell_type": "markdown",
   "metadata": {
    "colab_type": "text",
    "id": "uCPdKwq-PQXQ"
   },
   "source": [
    "Preparation of data for the model"
   ]
  },
  {
   "cell_type": "code",
   "execution_count": 10,
   "metadata": {
    "colab": {},
    "colab_type": "code",
    "id": "l_2mVn2gPfsc"
   },
   "outputs": [],
   "source": [
    "from tensorflow.keras.preprocessing.image import ImageDataGenerator\n",
    "\n",
    "aug = ImageDataGenerator(rotation_range=25, width_shift_range=0.1,\n",
    "                         height_shift_range=0.1, shear_range=0.2, zoom_range=0.2,\n",
    "                         horizontal_flip=True, fill_mode=\"nearest\")"
   ]
  },
  {
   "cell_type": "markdown",
   "metadata": {
    "colab_type": "text",
    "id": "A8GQhZ5mR57u"
   },
   "source": [
    "Defining Model for the gender classification"
   ]
  },
  {
   "cell_type": "code",
   "execution_count": 11,
   "metadata": {
    "colab": {},
    "colab_type": "code",
    "id": "Jl6JonMJ-KUc"
   },
   "outputs": [],
   "source": [
    "def define_model(width, height, depth, classes = 4):\n",
    "  model = Sequential()\n",
    "  inputShape = (height, width, depth)\n",
    "  chanDim = -1\n",
    "\n",
    "  if K.image_data_format() == \"channels_first\": #Returns a string, either 'channels_first' or 'channels_last'\n",
    "        inputShape = (depth, height, width)\n",
    "        chanDim = 1\n",
    "\n",
    "  model.add(Conv2D(32, (3,3), padding=\"same\", input_shape=inputShape))\n",
    "  model.add(Activation(\"relu\"))\n",
    "  model.add(BatchNormalization(axis=chanDim))\n",
    "  model.add(MaxPooling2D(pool_size=(3,3)))\n",
    "  model.add(Dropout(0.25))\n",
    "\n",
    "  model.add(Conv2D(64, (3,3), padding=\"same\"))\n",
    "  model.add(Activation(\"relu\"))\n",
    "  model.add(BatchNormalization(axis=chanDim))\n",
    "\n",
    "  model.add(Conv2D(64, (3,3), padding=\"same\"))\n",
    "  model.add(Activation(\"relu\"))\n",
    "  model.add(BatchNormalization(axis=chanDim))\n",
    "  model.add(MaxPooling2D(pool_size=(2,2)))\n",
    "  model.add(Dropout(0.25))\n",
    "\n",
    "  model.add(Conv2D(128, (3,3), padding=\"same\"))\n",
    "  model.add(Activation(\"relu\"))\n",
    "  model.add(BatchNormalization(axis=chanDim))\n",
    "\n",
    "  model.add(Conv2D(128, (3,3), padding=\"same\"))\n",
    "  model.add(Activation(\"relu\"))\n",
    "  model.add(BatchNormalization(axis=chanDim))\n",
    "  model.add(MaxPooling2D(pool_size=(2,2)))\n",
    "  model.add(Dropout(0.25))\n",
    "\n",
    "  model.add(Flatten())\n",
    "  model.add(Dense(1024))\n",
    "  model.add(Activation(\"relu\"))\n",
    "  model.add(BatchNormalization())\n",
    "  model.add(Dropout(0.5))\n",
    "\n",
    "  model.add(Dense(classes))\n",
    "  model.add(Activation(\"sigmoid\"))\n",
    "\n",
    "  return model\n",
    "\n",
    "  "
   ]
  },
  {
   "cell_type": "code",
   "execution_count": 12,
   "metadata": {
    "colab": {
     "base_uri": "https://localhost:8080/",
     "height": 1000
    },
    "colab_type": "code",
    "id": "lsMCK_QlPsXW",
    "outputId": "9a4a5daf-6c11-43da-c1e9-b465e5434763"
   },
   "outputs": [
    {
     "name": "stdout",
     "output_type": "stream",
     "text": [
      "Model: \"sequential\"\n",
      "_________________________________________________________________\n",
      "Layer (type)                 Output Shape              Param #   \n",
      "=================================================================\n",
      "conv2d (Conv2D)              (None, 100, 100, 32)      896       \n",
      "_________________________________________________________________\n",
      "activation (Activation)      (None, 100, 100, 32)      0         \n",
      "_________________________________________________________________\n",
      "batch_normalization (BatchNo (None, 100, 100, 32)      128       \n",
      "_________________________________________________________________\n",
      "max_pooling2d (MaxPooling2D) (None, 33, 33, 32)        0         \n",
      "_________________________________________________________________\n",
      "dropout (Dropout)            (None, 33, 33, 32)        0         \n",
      "_________________________________________________________________\n",
      "conv2d_1 (Conv2D)            (None, 33, 33, 64)        18496     \n",
      "_________________________________________________________________\n",
      "activation_1 (Activation)    (None, 33, 33, 64)        0         \n",
      "_________________________________________________________________\n",
      "batch_normalization_1 (Batch (None, 33, 33, 64)        256       \n",
      "_________________________________________________________________\n",
      "conv2d_2 (Conv2D)            (None, 33, 33, 64)        36928     \n",
      "_________________________________________________________________\n",
      "activation_2 (Activation)    (None, 33, 33, 64)        0         \n",
      "_________________________________________________________________\n",
      "batch_normalization_2 (Batch (None, 33, 33, 64)        256       \n",
      "_________________________________________________________________\n",
      "max_pooling2d_1 (MaxPooling2 (None, 16, 16, 64)        0         \n",
      "_________________________________________________________________\n",
      "dropout_1 (Dropout)          (None, 16, 16, 64)        0         \n",
      "_________________________________________________________________\n",
      "conv2d_3 (Conv2D)            (None, 16, 16, 128)       73856     \n",
      "_________________________________________________________________\n",
      "activation_3 (Activation)    (None, 16, 16, 128)       0         \n",
      "_________________________________________________________________\n",
      "batch_normalization_3 (Batch (None, 16, 16, 128)       512       \n",
      "_________________________________________________________________\n",
      "conv2d_4 (Conv2D)            (None, 16, 16, 128)       147584    \n",
      "_________________________________________________________________\n",
      "activation_4 (Activation)    (None, 16, 16, 128)       0         \n",
      "_________________________________________________________________\n",
      "batch_normalization_4 (Batch (None, 16, 16, 128)       512       \n",
      "_________________________________________________________________\n",
      "max_pooling2d_2 (MaxPooling2 (None, 8, 8, 128)         0         \n",
      "_________________________________________________________________\n",
      "dropout_2 (Dropout)          (None, 8, 8, 128)         0         \n",
      "_________________________________________________________________\n",
      "flatten (Flatten)            (None, 8192)              0         \n",
      "_________________________________________________________________\n",
      "dense (Dense)                (None, 1024)              8389632   \n",
      "_________________________________________________________________\n",
      "activation_5 (Activation)    (None, 1024)              0         \n",
      "_________________________________________________________________\n",
      "batch_normalization_5 (Batch (None, 1024)              4096      \n",
      "_________________________________________________________________\n",
      "dropout_3 (Dropout)          (None, 1024)              0         \n",
      "_________________________________________________________________\n",
      "dense_1 (Dense)              (None, 2)                 2050      \n",
      "_________________________________________________________________\n",
      "activation_6 (Activation)    (None, 2)                 0         \n",
      "=================================================================\n",
      "Total params: 8,675,202\n",
      "Trainable params: 8,672,322\n",
      "Non-trainable params: 2,880\n",
      "_________________________________________________________________\n"
     ]
    }
   ],
   "source": [
    "model = define_model(width=inputshape[0], height=inputshape[1], depth=inputshape[2],\n",
    "                            classes=2)\n",
    "model.summary()"
   ]
  },
  {
   "cell_type": "code",
   "execution_count": 13,
   "metadata": {
    "colab": {},
    "colab_type": "code",
    "id": "LXQqtLFaRe1V"
   },
   "outputs": [],
   "source": [
    "from tensorflow.keras.optimizers import Adam\n",
    "lr = 1e-3\n",
    "opt = Adam(lr=lr, decay=lr/epochs)\n",
    "model.compile(optimizer=opt, loss = \"binary_crossentropy\", metrics = [\"accuracy\"])"
   ]
  },
  {
   "cell_type": "code",
   "execution_count": 14,
   "metadata": {
    "colab": {
     "base_uri": "https://localhost:8080/",
     "height": 1000
    },
    "colab_type": "code",
    "id": "ID8nid7PvrOh",
    "outputId": "2801adcb-73f5-4ca0-ad94-14ec09bd6b09"
   },
   "outputs": [
    {
     "name": "stdout",
     "output_type": "stream",
     "text": [
      "WARNING:tensorflow:From <ipython-input-14-38fa8336adf6>:4: Model.fit_generator (from tensorflow.python.keras.engine.training) is deprecated and will be removed in a future version.\n",
      "Instructions for updating:\n",
      "Please use Model.fit, which supports generators.\n",
      "Epoch 1/100\n",
      "122/122 [==============================] - 19s 152ms/step - loss: 0.7836 - accuracy: 0.6529 - val_loss: 2.3904 - val_accuracy: 0.5475\n",
      "Epoch 2/100\n",
      "122/122 [==============================] - 18s 148ms/step - loss: 0.6537 - accuracy: 0.6895 - val_loss: 0.8569 - val_accuracy: 0.4703\n",
      "Epoch 3/100\n",
      "122/122 [==============================] - 18s 147ms/step - loss: 0.5880 - accuracy: 0.7176 - val_loss: 0.6034 - val_accuracy: 0.7132\n",
      "Epoch 4/100\n",
      "122/122 [==============================] - 18s 148ms/step - loss: 0.5444 - accuracy: 0.7305 - val_loss: 0.5003 - val_accuracy: 0.7469\n",
      "Epoch 5/100\n",
      "122/122 [==============================] - 18s 148ms/step - loss: 0.5223 - accuracy: 0.7373 - val_loss: 0.4918 - val_accuracy: 0.7454\n",
      "Epoch 6/100\n",
      "122/122 [==============================] - 18s 149ms/step - loss: 0.4983 - accuracy: 0.7547 - val_loss: 0.4791 - val_accuracy: 0.7623\n",
      "Epoch 7/100\n",
      "122/122 [==============================] - 18s 147ms/step - loss: 0.4930 - accuracy: 0.7574 - val_loss: 0.5126 - val_accuracy: 0.7377\n",
      "Epoch 8/100\n",
      "122/122 [==============================] - 18s 147ms/step - loss: 0.4910 - accuracy: 0.7538 - val_loss: 0.4229 - val_accuracy: 0.7970\n",
      "Epoch 9/100\n",
      "122/122 [==============================] - 18s 146ms/step - loss: 0.4599 - accuracy: 0.7729 - val_loss: 0.3889 - val_accuracy: 0.8042\n",
      "Epoch 10/100\n",
      "122/122 [==============================] - 18s 144ms/step - loss: 0.4466 - accuracy: 0.7797 - val_loss: 0.3897 - val_accuracy: 0.8113\n",
      "Epoch 11/100\n",
      "122/122 [==============================] - 18s 145ms/step - loss: 0.4389 - accuracy: 0.7859 - val_loss: 0.4573 - val_accuracy: 0.7817\n",
      "Epoch 12/100\n",
      "122/122 [==============================] - 18s 144ms/step - loss: 0.4270 - accuracy: 0.7962 - val_loss: 0.4588 - val_accuracy: 0.7883\n",
      "Epoch 13/100\n",
      "122/122 [==============================] - 18s 147ms/step - loss: 0.4184 - accuracy: 0.7942 - val_loss: 0.3891 - val_accuracy: 0.8216\n",
      "Epoch 14/100\n",
      "122/122 [==============================] - 18s 145ms/step - loss: 0.4139 - accuracy: 0.7987 - val_loss: 0.4035 - val_accuracy: 0.8052\n",
      "Epoch 15/100\n",
      "122/122 [==============================] - 18s 145ms/step - loss: 0.4141 - accuracy: 0.7993 - val_loss: 0.4591 - val_accuracy: 0.7904\n",
      "Epoch 16/100\n",
      "122/122 [==============================] - 18s 147ms/step - loss: 0.3896 - accuracy: 0.8158 - val_loss: 0.3904 - val_accuracy: 0.8154\n",
      "Epoch 17/100\n",
      "122/122 [==============================] - 18s 149ms/step - loss: 0.3947 - accuracy: 0.8104 - val_loss: 0.4386 - val_accuracy: 0.7889\n",
      "Epoch 18/100\n",
      "122/122 [==============================] - 18s 147ms/step - loss: 0.4051 - accuracy: 0.8014 - val_loss: 0.3531 - val_accuracy: 0.8400\n",
      "Epoch 19/100\n",
      "122/122 [==============================] - 18s 146ms/step - loss: 0.3829 - accuracy: 0.8158 - val_loss: 0.4196 - val_accuracy: 0.8057\n",
      "Epoch 20/100\n",
      "122/122 [==============================] - 18s 145ms/step - loss: 0.3912 - accuracy: 0.8089 - val_loss: 0.4714 - val_accuracy: 0.7669\n",
      "Epoch 21/100\n",
      "122/122 [==============================] - 18s 145ms/step - loss: 0.3865 - accuracy: 0.8120 - val_loss: 0.4742 - val_accuracy: 0.7894\n",
      "Epoch 22/100\n",
      "122/122 [==============================] - 18s 147ms/step - loss: 0.3793 - accuracy: 0.8203 - val_loss: 0.3669 - val_accuracy: 0.8272\n",
      "Epoch 23/100\n",
      "122/122 [==============================] - 18s 147ms/step - loss: 0.3745 - accuracy: 0.8144 - val_loss: 0.3595 - val_accuracy: 0.8221\n",
      "Epoch 24/100\n",
      "122/122 [==============================] - 18s 147ms/step - loss: 0.3716 - accuracy: 0.8239 - val_loss: 0.3740 - val_accuracy: 0.8206\n",
      "Epoch 25/100\n",
      "122/122 [==============================] - 18s 145ms/step - loss: 0.3634 - accuracy: 0.8288 - val_loss: 0.3360 - val_accuracy: 0.8384\n",
      "Epoch 26/100\n",
      "122/122 [==============================] - 18s 147ms/step - loss: 0.3629 - accuracy: 0.8227 - val_loss: 0.3505 - val_accuracy: 0.8241\n",
      "Epoch 27/100\n",
      "122/122 [==============================] - 18s 147ms/step - loss: 0.3527 - accuracy: 0.8326 - val_loss: 0.4171 - val_accuracy: 0.8001\n",
      "Epoch 28/100\n",
      "122/122 [==============================] - 18s 144ms/step - loss: 0.3588 - accuracy: 0.8243 - val_loss: 0.3923 - val_accuracy: 0.8149\n",
      "Epoch 29/100\n",
      "122/122 [==============================] - 18s 144ms/step - loss: 0.3549 - accuracy: 0.8288 - val_loss: 0.3522 - val_accuracy: 0.8374\n",
      "Epoch 30/100\n",
      "122/122 [==============================] - 18s 145ms/step - loss: 0.3475 - accuracy: 0.8337 - val_loss: 0.3646 - val_accuracy: 0.8359\n",
      "Epoch 31/100\n",
      "122/122 [==============================] - 18s 146ms/step - loss: 0.3497 - accuracy: 0.8397 - val_loss: 0.5586 - val_accuracy: 0.7633\n",
      "Epoch 32/100\n",
      "122/122 [==============================] - 18s 145ms/step - loss: 0.3439 - accuracy: 0.8389 - val_loss: 0.3884 - val_accuracy: 0.8144\n",
      "Epoch 33/100\n",
      "122/122 [==============================] - 18s 146ms/step - loss: 0.3434 - accuracy: 0.8370 - val_loss: 0.6960 - val_accuracy: 0.7791\n",
      "Epoch 34/100\n",
      "122/122 [==============================] - 18s 146ms/step - loss: 0.3367 - accuracy: 0.8388 - val_loss: 0.3778 - val_accuracy: 0.8211\n",
      "Epoch 35/100\n",
      "122/122 [==============================] - 18s 149ms/step - loss: 0.3365 - accuracy: 0.8398 - val_loss: 0.3550 - val_accuracy: 0.8226\n",
      "Epoch 36/100\n",
      "122/122 [==============================] - 18s 148ms/step - loss: 0.3271 - accuracy: 0.8473 - val_loss: 0.3943 - val_accuracy: 0.8088\n",
      "Epoch 37/100\n",
      "122/122 [==============================] - 18s 145ms/step - loss: 0.3338 - accuracy: 0.8434 - val_loss: 0.3083 - val_accuracy: 0.8594\n",
      "Epoch 38/100\n",
      "122/122 [==============================] - 18s 145ms/step - loss: 0.3247 - accuracy: 0.8483 - val_loss: 0.4321 - val_accuracy: 0.8221\n",
      "Epoch 39/100\n",
      "122/122 [==============================] - 18s 147ms/step - loss: 0.3208 - accuracy: 0.8491 - val_loss: 0.3435 - val_accuracy: 0.8349\n",
      "Epoch 40/100\n",
      "122/122 [==============================] - 18s 146ms/step - loss: 0.3247 - accuracy: 0.8441 - val_loss: 0.3619 - val_accuracy: 0.8390\n",
      "Epoch 41/100\n",
      "122/122 [==============================] - 18s 147ms/step - loss: 0.3202 - accuracy: 0.8478 - val_loss: 0.3667 - val_accuracy: 0.8420\n",
      "Epoch 42/100\n",
      "122/122 [==============================] - 18s 145ms/step - loss: 0.3183 - accuracy: 0.8488 - val_loss: 0.5094 - val_accuracy: 0.7500\n",
      "Epoch 43/100\n",
      "122/122 [==============================] - 18s 146ms/step - loss: 0.3226 - accuracy: 0.8474 - val_loss: 0.3510 - val_accuracy: 0.8415\n",
      "Epoch 44/100\n",
      "122/122 [==============================] - 18s 146ms/step - loss: 0.3180 - accuracy: 0.8465 - val_loss: 0.4424 - val_accuracy: 0.8006\n",
      "Epoch 45/100\n",
      "122/122 [==============================] - 18s 150ms/step - loss: 0.3168 - accuracy: 0.8488 - val_loss: 0.3158 - val_accuracy: 0.8569\n",
      "Epoch 46/100\n",
      "122/122 [==============================] - 18s 145ms/step - loss: 0.3139 - accuracy: 0.8487 - val_loss: 0.3346 - val_accuracy: 0.8502\n",
      "Epoch 47/100\n",
      "122/122 [==============================] - 18s 144ms/step - loss: 0.3051 - accuracy: 0.8555 - val_loss: 0.3543 - val_accuracy: 0.8466\n",
      "Epoch 48/100\n",
      "122/122 [==============================] - 18s 145ms/step - loss: 0.3014 - accuracy: 0.8642 - val_loss: 0.3867 - val_accuracy: 0.8328\n",
      "Epoch 49/100\n",
      "122/122 [==============================] - 18s 146ms/step - loss: 0.3024 - accuracy: 0.8571 - val_loss: 0.3302 - val_accuracy: 0.8625\n",
      "Epoch 50/100\n",
      "122/122 [==============================] - 18s 145ms/step - loss: 0.3213 - accuracy: 0.8466 - val_loss: 0.3783 - val_accuracy: 0.8277\n",
      "Epoch 51/100\n",
      "122/122 [==============================] - 18s 145ms/step - loss: 0.3085 - accuracy: 0.8541 - val_loss: 0.3242 - val_accuracy: 0.8522\n",
      "Epoch 52/100\n",
      "122/122 [==============================] - 18s 145ms/step - loss: 0.3020 - accuracy: 0.8611 - val_loss: 0.3865 - val_accuracy: 0.8252\n",
      "Epoch 53/100\n",
      "122/122 [==============================] - 18s 146ms/step - loss: 0.2979 - accuracy: 0.8607 - val_loss: 0.4162 - val_accuracy: 0.8318\n",
      "Epoch 54/100\n",
      "122/122 [==============================] - 18s 149ms/step - loss: 0.2996 - accuracy: 0.8591 - val_loss: 0.3268 - val_accuracy: 0.8548\n",
      "Epoch 55/100\n",
      "122/122 [==============================] - 18s 144ms/step - loss: 0.2861 - accuracy: 0.8666 - val_loss: 0.3170 - val_accuracy: 0.8681\n",
      "Epoch 56/100\n",
      "122/122 [==============================] - 18s 146ms/step - loss: 0.2898 - accuracy: 0.8620 - val_loss: 0.3159 - val_accuracy: 0.8620\n",
      "Epoch 57/100\n",
      "122/122 [==============================] - 18s 145ms/step - loss: 0.2875 - accuracy: 0.8654 - val_loss: 0.3081 - val_accuracy: 0.8574\n",
      "Epoch 58/100\n",
      "122/122 [==============================] - 18s 147ms/step - loss: 0.2933 - accuracy: 0.8643 - val_loss: 0.3303 - val_accuracy: 0.8507\n",
      "Epoch 59/100\n",
      "122/122 [==============================] - 18s 144ms/step - loss: 0.2765 - accuracy: 0.8720 - val_loss: 0.3363 - val_accuracy: 0.8476\n",
      "Epoch 60/100\n",
      "122/122 [==============================] - 18s 145ms/step - loss: 0.2891 - accuracy: 0.8674 - val_loss: 0.3727 - val_accuracy: 0.8262\n",
      "Epoch 61/100\n",
      "122/122 [==============================] - 18s 145ms/step - loss: 0.2891 - accuracy: 0.8636 - val_loss: 0.3032 - val_accuracy: 0.8686\n",
      "Epoch 62/100\n",
      "122/122 [==============================] - 18s 146ms/step - loss: 0.2789 - accuracy: 0.8691 - val_loss: 0.3433 - val_accuracy: 0.8528\n",
      "Epoch 63/100\n",
      "122/122 [==============================] - 18s 147ms/step - loss: 0.2810 - accuracy: 0.8694 - val_loss: 0.4058 - val_accuracy: 0.8287\n",
      "Epoch 64/100\n",
      "122/122 [==============================] - 18s 144ms/step - loss: 0.2825 - accuracy: 0.8666 - val_loss: 0.3234 - val_accuracy: 0.8640\n",
      "Epoch 65/100\n",
      "122/122 [==============================] - 18s 144ms/step - loss: 0.2706 - accuracy: 0.8785 - val_loss: 0.3325 - val_accuracy: 0.8630\n",
      "Epoch 66/100\n",
      "122/122 [==============================] - 18s 145ms/step - loss: 0.2759 - accuracy: 0.8716 - val_loss: 0.3278 - val_accuracy: 0.8579\n",
      "Epoch 67/100\n",
      "122/122 [==============================] - 18s 145ms/step - loss: 0.2713 - accuracy: 0.8774 - val_loss: 0.3142 - val_accuracy: 0.8548\n",
      "Epoch 68/100\n",
      "122/122 [==============================] - 18s 145ms/step - loss: 0.2678 - accuracy: 0.8752 - val_loss: 0.3253 - val_accuracy: 0.8528\n",
      "Epoch 69/100\n",
      "122/122 [==============================] - 18s 147ms/step - loss: 0.2674 - accuracy: 0.8799 - val_loss: 0.3232 - val_accuracy: 0.8696\n",
      "Epoch 70/100\n",
      "122/122 [==============================] - 18s 147ms/step - loss: 0.2703 - accuracy: 0.8752 - val_loss: 0.3486 - val_accuracy: 0.8522\n",
      "Epoch 71/100\n",
      "122/122 [==============================] - 18s 147ms/step - loss: 0.2715 - accuracy: 0.8760 - val_loss: 0.2976 - val_accuracy: 0.8732\n",
      "Epoch 72/100\n",
      "122/122 [==============================] - 18s 147ms/step - loss: 0.2763 - accuracy: 0.8729 - val_loss: 0.5175 - val_accuracy: 0.8144\n",
      "Epoch 73/100\n",
      "122/122 [==============================] - 18s 145ms/step - loss: 0.2635 - accuracy: 0.8794 - val_loss: 0.3021 - val_accuracy: 0.8620\n",
      "Epoch 74/100\n",
      "122/122 [==============================] - 18s 144ms/step - loss: 0.2609 - accuracy: 0.8774 - val_loss: 0.3493 - val_accuracy: 0.8446\n",
      "Epoch 75/100\n",
      "122/122 [==============================] - 18s 145ms/step - loss: 0.2703 - accuracy: 0.8770 - val_loss: 0.4120 - val_accuracy: 0.8430\n",
      "Epoch 76/100\n",
      "122/122 [==============================] - 18s 146ms/step - loss: 0.2740 - accuracy: 0.8745 - val_loss: 0.3569 - val_accuracy: 0.8620\n",
      "Epoch 77/100\n",
      "122/122 [==============================] - 18s 148ms/step - loss: 0.2681 - accuracy: 0.8754 - val_loss: 0.3353 - val_accuracy: 0.8655\n",
      "Epoch 78/100\n",
      "122/122 [==============================] - 18s 148ms/step - loss: 0.2582 - accuracy: 0.8840 - val_loss: 0.3564 - val_accuracy: 0.8528\n",
      "Epoch 79/100\n",
      "122/122 [==============================] - 18s 150ms/step - loss: 0.2621 - accuracy: 0.8845 - val_loss: 0.6213 - val_accuracy: 0.8062\n",
      "Epoch 80/100\n",
      "122/122 [==============================] - 18s 150ms/step - loss: 0.2729 - accuracy: 0.8754 - val_loss: 0.3232 - val_accuracy: 0.8594\n",
      "Epoch 81/100\n",
      "122/122 [==============================] - 18s 148ms/step - loss: 0.2757 - accuracy: 0.8727 - val_loss: 0.3166 - val_accuracy: 0.8609\n",
      "Epoch 82/100\n",
      "122/122 [==============================] - 18s 144ms/step - loss: 0.2584 - accuracy: 0.8812 - val_loss: 0.3560 - val_accuracy: 0.8630\n",
      "Epoch 83/100\n",
      "122/122 [==============================] - 18s 144ms/step - loss: 0.2622 - accuracy: 0.8808 - val_loss: 0.3466 - val_accuracy: 0.8476\n",
      "Epoch 84/100\n",
      "122/122 [==============================] - 18s 143ms/step - loss: 0.2674 - accuracy: 0.8774 - val_loss: 0.3236 - val_accuracy: 0.8609\n",
      "Epoch 85/100\n",
      "122/122 [==============================] - 18s 147ms/step - loss: 0.2606 - accuracy: 0.8791 - val_loss: 0.4324 - val_accuracy: 0.8333\n",
      "Epoch 86/100\n",
      "122/122 [==============================] - 18s 145ms/step - loss: 0.2493 - accuracy: 0.8845 - val_loss: 0.2977 - val_accuracy: 0.8804\n",
      "Epoch 87/100\n",
      "122/122 [==============================] - 18s 145ms/step - loss: 0.2562 - accuracy: 0.8828 - val_loss: 0.3439 - val_accuracy: 0.8696\n",
      "Epoch 88/100\n",
      "122/122 [==============================] - 18s 146ms/step - loss: 0.2481 - accuracy: 0.8863 - val_loss: 0.6992 - val_accuracy: 0.7950\n",
      "Epoch 89/100\n",
      "122/122 [==============================] - 18s 146ms/step - loss: 0.2434 - accuracy: 0.8928 - val_loss: 0.3265 - val_accuracy: 0.8666\n",
      "Epoch 90/100\n",
      "122/122 [==============================] - 18s 149ms/step - loss: 0.2465 - accuracy: 0.8877 - val_loss: 0.3270 - val_accuracy: 0.8640\n",
      "Epoch 91/100\n",
      "122/122 [==============================] - 18s 147ms/step - loss: 0.2470 - accuracy: 0.8888 - val_loss: 0.3145 - val_accuracy: 0.8763\n",
      "Epoch 92/100\n",
      "122/122 [==============================] - 18s 145ms/step - loss: 0.2513 - accuracy: 0.8876 - val_loss: 0.3342 - val_accuracy: 0.8671\n",
      "Epoch 93/100\n",
      "122/122 [==============================] - 18s 147ms/step - loss: 0.2494 - accuracy: 0.8877 - val_loss: 0.3160 - val_accuracy: 0.8691\n",
      "Epoch 94/100\n",
      "122/122 [==============================] - 18s 145ms/step - loss: 0.2378 - accuracy: 0.8946 - val_loss: 0.3802 - val_accuracy: 0.8538\n",
      "Epoch 95/100\n",
      "122/122 [==============================] - 18s 144ms/step - loss: 0.2382 - accuracy: 0.8916 - val_loss: 0.4507 - val_accuracy: 0.8374\n",
      "Epoch 96/100\n",
      "122/122 [==============================] - 18s 145ms/step - loss: 0.2402 - accuracy: 0.8925 - val_loss: 0.3550 - val_accuracy: 0.8604\n",
      "Epoch 97/100\n",
      "122/122 [==============================] - 18s 145ms/step - loss: 0.2322 - accuracy: 0.8961 - val_loss: 0.3384 - val_accuracy: 0.8661\n",
      "Epoch 98/100\n",
      "122/122 [==============================] - 18s 145ms/step - loss: 0.2380 - accuracy: 0.8943 - val_loss: 0.3425 - val_accuracy: 0.8609\n",
      "Epoch 99/100\n",
      "122/122 [==============================] - 18s 144ms/step - loss: 0.2351 - accuracy: 0.8975 - val_loss: 0.5467 - val_accuracy: 0.8139\n",
      "Epoch 100/100\n",
      "122/122 [==============================] - 18s 144ms/step - loss: 0.2366 - accuracy: 0.8975 - val_loss: 0.3899 - val_accuracy: 0.8425\n"
     ]
    }
   ],
   "source": [
    "history = model.fit_generator(aug.flow(trainX, trainY, batch_size=batch_size),\n",
    "                        validation_data=(testX,testY),\n",
    "                        steps_per_epoch=len(trainX) // batch_size,\n",
    "                        epochs=epochs, verbose=1)"
   ]
  },
  {
   "cell_type": "code",
   "execution_count": 25,
   "metadata": {
    "colab": {
     "base_uri": "https://localhost:8080/",
     "height": 34
    },
    "colab_type": "code",
    "id": "WFKoo1z1yFkf",
    "outputId": "8eafa7ab-81df-40a8-99be-6a2737f329c3"
   },
   "outputs": [
    {
     "name": "stdout",
     "output_type": "stream",
     "text": [
      "INFO:tensorflow:Assets written to: /content/drive/My Drive/gender_detection_model.model/assets\n"
     ]
    }
   ],
   "source": [
    "model.save(\"/content/drive/My Drive/gender_detection_model.model\")"
   ]
  },
  {
   "cell_type": "code",
   "execution_count": 22,
   "metadata": {
    "colab": {},
    "colab_type": "code",
    "id": "VJX3G8sW9vRd"
   },
   "outputs": [],
   "source": []
  },
  {
   "cell_type": "code",
   "execution_count": 24,
   "metadata": {
    "colab": {
     "base_uri": "https://localhost:8080/",
     "height": 298
    },
    "colab_type": "code",
    "id": "rzEx57h3y2-g",
    "outputId": "9568051d-ff2c-432b-d668-61c1bc96335b"
   },
   "outputs": [
    {
     "data": {
      "image/png": "[encoded data removed]",
      "text/plain": [
       "<Figure size 432x288 with 1 Axes>"
      ]
     },
     "metadata": {
      "tags": []
     },
     "output_type": "display_data"
    }
   ],
   "source": [
    "from matplotlib import pyplot as plt\n",
    "# plot training/validation loss/accuracy\n",
    "plt.style.use(\"ggplot\")\n",
    "plt.figure()\n",
    "N = epochs\n",
    "plt.plot(np.arange(0,N), history.history[\"loss\"], label=\"train_loss\")\n",
    "plt.plot(np.arange(0,N), history.history[\"val_loss\"], label=\"val_loss\")\n",
    "plt.plot(np.arange(0,N), history.history[\"accuracy\"], label=\"val_acc\")\n",
    "\n",
    "plt.title(\"Training Loss and Accuracy\")\n",
    "plt.xlabel(\"Epoch #\")\n",
    "plt.ylabel(\"Loss/Accuracy\")\n",
    "plt.legend(loc=\"upper right\")\n",
    "\n",
    "plt.show()"
   ]
  },
  {
   "cell_type": "code",
   "execution_count": null,
   "metadata": {
    "colab": {},
    "colab_type": "code",
    "id": "QVGKa-dqzCOQ"
   },
   "outputs": [],
   "source": []
  }
 ],
 "metadata": {
  "accelerator": "GPU",
  "colab": {
   "collapsed_sections": [],
   "name": "FaceDetection_1.ipynb",
   "provenance": []
  },
  "kernelspec": {
   "display_name": "Python 3",
   "language": "python",
   "name": "python3"
  },
  "language_info": {
   "codemirror_mode": {
    "name": "ipython",
    "version": 3
   },
   "file_extension": ".py",
   "mimetype": "text/x-python",
   "name": "python",
   "nbconvert_exporter": "python",
   "pygments_lexer": "ipython3",
   "version": "3.7.4"
  }
 },
 "nbformat": 4,
 "nbformat_minor": 1
}
